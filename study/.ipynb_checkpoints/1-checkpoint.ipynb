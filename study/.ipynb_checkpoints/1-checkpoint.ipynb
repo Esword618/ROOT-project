{
 "cells": [
  {
   "cell_type": "code",
   "execution_count": 2,
   "metadata": {},
   "outputs": [],
   "source": [
    "TFile *guan = new TFile(\"guan.guan.root\",\"recreate\");\n",
    "TTree *ming = new TTree(\"ming\", \"This is my first tree\");\n",
    "\n",
    "int i = 1;\n",
    "double a = 2.2;\n",
    "double b = 0.0;\n",
    "\n",
    "ming->Branch(\"i\",&i,\"i/I\");\n",
    "ming->Branch(\"a\",&a,\"a/D\");\n",
    "ming->Branch(\"b\",&a,\"b/D\");\n",
    "for(int j=0;j<100;j++){\n",
    "    i=j;\n",
    "    a=(double)i*0.1;\n",
    "    b=a*a/3;\n",
    "    ming->Fill();\n",
    "}\n",
    "\n",
    "ming->Write();"
   ]
  },
  {
   "cell_type": "code",
   "execution_count": 3,
   "metadata": {},
   "outputs": [
    {
     "name": "stdout",
     "output_type": "stream",
     "text": [
      "******************************************************************************\n",
      "*Tree    :ming      : This is my first tree                                  *\n",
      "*Entries :      100 : Total =            4039 bytes  File  Size =       1407 *\n",
      "*        :          : Tree compression factor =   2.43                       *\n",
      "******************************************************************************\n",
      "*Br    0 :i         : i/I                                                    *\n",
      "*Entries :      100 : Total  Size=        945 bytes  File Size  =        248 *\n",
      "*Baskets :        1 : Basket Size=      32000 bytes  Compression=   1.89     *\n",
      "*............................................................................*\n",
      "*Br    1 :a         : a/D                                                    *\n",
      "*Entries :      100 : Total  Size=       1353 bytes  File Size  =        329 *\n",
      "*Baskets :        1 : Basket Size=      32000 bytes  Compression=   2.64     *\n",
      "*............................................................................*\n",
      "*Br    2 :b         : b/D                                                    *\n",
      "*Entries :      100 : Total  Size=       1353 bytes  File Size  =        329 *\n",
      "*Baskets :        1 : Basket Size=      32000 bytes  Compression=   2.64     *\n",
      "*............................................................................*\n"
     ]
    }
   ],
   "source": [
    "ming->Print()"
   ]
  },
  {
   "cell_type": "code",
   "execution_count": 4,
   "metadata": {},
   "outputs": [
    {
     "name": "stdout",
     "output_type": "stream",
     "text": [
      "======> EVENT:-1\n",
      " i               = 99\n",
      " a               = 9.9\n",
      " b               = 9.9\n"
     ]
    }
   ],
   "source": [
    "ming->Show()"
   ]
  },
  {
   "cell_type": "code",
   "execution_count": 5,
   "metadata": {},
   "outputs": [
    {
     "name": "stdout",
     "output_type": "stream",
     "text": [
      "************************************************\n",
      "*    Row   *       i.i *       a.a *       b.b *\n",
      "************************************************\n",
      "*        0 *         0 *         0 *         0 *\n",
      "*        1 *         1 *       0.1 *       0.1 *\n",
      "*        2 *         2 *       0.2 *       0.2 *\n",
      "*        3 *         3 *       0.3 *       0.3 *\n",
      "*        4 *         4 *       0.4 *       0.4 *\n",
      "*        5 *         5 *       0.5 *       0.5 *\n",
      "*        6 *         6 *       0.6 *       0.6 *\n",
      "*        7 *         7 *       0.7 *       0.7 *\n",
      "*        8 *         8 *       0.8 *       0.8 *\n",
      "*        9 *         9 *       0.9 *       0.9 *\n",
      "*       10 *        10 *         1 *         1 *\n",
      "*       11 *        11 *       1.1 *       1.1 *\n",
      "*       12 *        12 *       1.2 *       1.2 *\n",
      "*       13 *        13 *       1.3 *       1.3 *\n",
      "*       14 *        14 *       1.4 *       1.4 *\n",
      "*       15 *        15 *       1.5 *       1.5 *\n",
      "*       16 *        16 *       1.6 *       1.6 *\n",
      "*       17 *        17 *       1.7 *       1.7 *\n",
      "*       18 *        18 *       1.8 *       1.8 *\n",
      "*       19 *        19 *       1.9 *       1.9 *\n",
      "*       20 *        20 *         2 *         2 *\n",
      "*       21 *        21 *       2.1 *       2.1 *\n",
      "*       22 *        22 *       2.2 *       2.2 *\n",
      "*       23 *        23 *       2.3 *       2.3 *\n",
      "*       24 *        24 *       2.4 *       2.4 *\n",
      "*       25 *        25 *       2.5 *       2.5 *\n",
      "*       26 *        26 *       2.6 *       2.6 *\n",
      "*       27 *        27 *       2.7 *       2.7 *\n",
      "*       28 *        28 *       2.8 *       2.8 *\n",
      "*       29 *        29 *       2.9 *       2.9 *\n",
      "*       30 *        30 *         3 *         3 *\n",
      "*       31 *        31 *       3.1 *       3.1 *\n",
      "*       32 *        32 *       3.2 *       3.2 *\n",
      "*       33 *        33 *       3.3 *       3.3 *\n",
      "*       34 *        34 *       3.4 *       3.4 *\n",
      "*       35 *        35 *       3.5 *       3.5 *\n",
      "*       36 *        36 *       3.6 *       3.6 *\n",
      "*       37 *        37 *       3.7 *       3.7 *\n",
      "*       38 *        38 *       3.8 *       3.8 *\n",
      "*       39 *        39 *       3.9 *       3.9 *\n",
      "*       40 *        40 *         4 *         4 *\n",
      "*       41 *        41 *       4.1 *       4.1 *\n",
      "*       42 *        42 *       4.2 *       4.2 *\n",
      "*       43 *        43 *       4.3 *       4.3 *\n",
      "*       44 *        44 *       4.4 *       4.4 *\n",
      "*       45 *        45 *       4.5 *       4.5 *\n",
      "*       46 *        46 *       4.6 *       4.6 *\n",
      "*       47 *        47 *       4.7 *       4.7 *\n",
      "*       48 *        48 *       4.8 *       4.8 *\n",
      "*       49 *        49 *       4.9 *       4.9 *\n",
      "*       50 *        50 *         5 *         5 *\n",
      "*       51 *        51 *       5.1 *       5.1 *\n",
      "*       52 *        52 *       5.2 *       5.2 *\n",
      "*       53 *        53 *       5.3 *       5.3 *\n",
      "*       54 *        54 *       5.4 *       5.4 *\n",
      "*       55 *        55 *       5.5 *       5.5 *\n",
      "*       56 *        56 *       5.6 *       5.6 *\n",
      "*       57 *        57 *       5.7 *       5.7 *\n",
      "*       58 *        58 *       5.8 *       5.8 *\n",
      "*       59 *        59 *       5.9 *       5.9 *\n",
      "*       60 *        60 *         6 *         6 *\n",
      "*       61 *        61 *       6.1 *       6.1 *\n",
      "*       62 *        62 *       6.2 *       6.2 *\n",
      "*       63 *        63 *       6.3 *       6.3 *\n",
      "*       64 *        64 *       6.4 *       6.4 *\n",
      "*       65 *        65 *       6.5 *       6.5 *\n",
      "*       66 *        66 *       6.6 *       6.6 *\n",
      "*       67 *        67 *       6.7 *       6.7 *\n",
      "*       68 *        68 *       6.8 *       6.8 *\n",
      "*       69 *        69 *       6.9 *       6.9 *\n",
      "*       70 *        70 *         7 *         7 *\n",
      "*       71 *        71 *       7.1 *       7.1 *\n",
      "*       72 *        72 *       7.2 *       7.2 *\n",
      "*       73 *        73 *       7.3 *       7.3 *\n",
      "*       74 *        74 *       7.4 *       7.4 *\n",
      "*       75 *        75 *       7.5 *       7.5 *\n",
      "*       76 *        76 *       7.6 *       7.6 *\n",
      "*       77 *        77 *       7.7 *       7.7 *\n",
      "*       78 *        78 *       7.8 *       7.8 *\n",
      "*       79 *        79 *       7.9 *       7.9 *\n",
      "*       80 *        80 *         8 *         8 *\n",
      "*       81 *        81 *       8.1 *       8.1 *\n",
      "*       82 *        82 *       8.2 *       8.2 *\n",
      "*       83 *        83 *       8.3 *       8.3 *\n",
      "*       84 *        84 *       8.4 *       8.4 *\n",
      "*       85 *        85 *       8.5 *       8.5 *\n",
      "*       86 *        86 *       8.6 *       8.6 *\n",
      "*       87 *        87 *       8.7 *       8.7 *\n",
      "*       88 *        88 *       8.8 *       8.8 *\n",
      "*       89 *        89 *       8.9 *       8.9 *\n",
      "*       90 *        90 *         9 *         9 *\n",
      "*       91 *        91 *       9.1 *       9.1 *\n",
      "*       92 *        92 *       9.2 *       9.2 *\n",
      "*       93 *        93 *       9.3 *       9.3 *\n",
      "*       94 *        94 *       9.4 *       9.4 *\n",
      "*       95 *        95 *       9.5 *       9.5 *\n",
      "*       96 *        96 *       9.6 *       9.6 *\n",
      "*       97 *        97 *       9.7 *       9.7 *\n",
      "*       98 *        98 *       9.8 *       9.8 *\n",
      "*       99 *        99 *       9.9 *       9.9 *\n",
      "************************************************\n",
      "(long long) 100\n"
     ]
    },
    {
     "name": "stderr",
     "output_type": "stream",
     "text": [
      "Type <CR> to continue or q to quit ==> Type <CR> to continue or q to quit ==> Type <CR> to continue or q to quit ==> Type <CR> to continue or q to quit ==> "
     ]
    }
   ],
   "source": [
    "ming->Scan() // Scan 是一个死循环函数，这里所以一直卡着不退出"
   ]
  },
  {
   "cell_type": "code",
   "execution_count": 7,
   "metadata": {},
   "outputs": [
    {
     "data": {
      "image/png": "[encoded data removed]",
      "text/plain": [
       "<IPython.core.display.Image object>"
      ]
     },
     "metadata": {},
     "output_type": "display_data"
    },
    {
     "name": "stderr",
     "output_type": "stream",
     "text": [
      "Warning in <TCanvas::Constructor>: Deleting canvas with same name: c1\n"
     ]
    }
   ],
   "source": [
    "TCanvas* c1 = new TCanvas(\"c1\",\"test canvas\",800,600);\n",
    "ming->Draw(\"b:a\",\"\",\"colz\");\n",
    "c1->Draw()"
   ]
  },
  {
   "cell_type": "code",
   "execution_count": null,
   "metadata": {},
   "outputs": [],
   "source": []
  }
 ],
 "metadata": {
  "kernelspec": {
   "display_name": "ROOT C++",
   "language": "c++",
   "name": "root"
  },
  "language_info": {
   "codemirror_mode": "text/x-c++src",
   "file_extension": ".C",
   "mimetype": " text/x-c++src",
   "name": "c++"
  }
 },
 "nbformat": 4,
 "nbformat_minor": 4
}
