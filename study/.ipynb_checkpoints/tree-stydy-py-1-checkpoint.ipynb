{
 "cells": [
  {
   "cell_type": "markdown",
   "metadata": {},
   "source": [
    "# my first tree"
   ]
  },
  {
   "cell_type": "code",
   "execution_count": 1,
   "metadata": {},
   "outputs": [
    {
     "name": "stdout",
     "output_type": "stream",
     "text": [
      "Welcome to JupyROOT 6.30/01\n"
     ]
    }
   ],
   "source": [
    "from ctypes import c_double, c_int\n",
    "from ROOT import TFile, TTree,TCanvas"
   ]
  },
  {
   "cell_type": "code",
   "execution_count": 2,
   "metadata": {},
   "outputs": [],
   "source": [
    "guan = TFile(\"guan.root\", \"recreate\")\n",
    "\n",
    "ming = TTree(\"ming\", \"This is my first tree\")"
   ]
  },
  {
   "cell_type": "code",
   "execution_count": 3,
   "metadata": {},
   "outputs": [
    {
     "data": {
      "text/plain": [
       "509"
      ]
     },
     "execution_count": 3,
     "metadata": {},
     "output_type": "execute_result"
    }
   ],
   "source": [
    "i = c_int(1)\n",
    "a = c_double(2.2)\n",
    "b = c_double(0.0)\n",
    "\n",
    "ming.Branch(\"i\", i, \"i/I\")  # \"i\" 为分支的名称，i为地址（c_int本身就是地址）,\"i/I\"为i的类型\n",
    "ming.Branch(\"a\", a, \"a/D\")\n",
    "ming.Branch(\"b\", b, \"b/D\")\n",
    "\n",
    "for j in range(100):\n",
    "    i.value = j  # 通过.value属性更新 ctypes 变量的值 （注意）\n",
    "    a.value = i.value * 0.1\n",
    "    b.value = j * j\n",
    "    ming.Fill()\n",
    "    \n",
    "ming.Write()"
   ]
  },
  {
   "cell_type": "code",
   "execution_count": 4,
   "metadata": {},
   "outputs": [
    {
     "name": "stdout",
     "output_type": "stream",
     "text": [
      "TFile**\t\tguan.root\t\n",
      " TFile*\t\tguan.root\t\n",
      "  OBJ: TTree\tming\tThis is my first tree : 0 at: 0x55986256e2d0\n",
      "  KEY: TTree\tming;1\tThis is my first tree\n"
     ]
    }
   ],
   "source": [
    "guan.ls()"
   ]
  },
  {
   "cell_type": "code",
   "execution_count": 5,
   "metadata": {},
   "outputs": [
    {
     "name": "stdout",
     "output_type": "stream",
     "text": [
      "******************************************************************************\n",
      "*Tree    :ming      : This is my first tree                                  *\n",
      "*Entries :      100 : Total =            4039 bytes  File  Size =       1499 *\n",
      "*        :          : Tree compression factor =   2.23                       *\n",
      "******************************************************************************\n",
      "*Br    0 :i         : i/I                                                    *\n",
      "*Entries :      100 : Total  Size=        945 bytes  File Size  =        248 *\n",
      "*Baskets :        1 : Basket Size=      32000 bytes  Compression=   1.89     *\n",
      "*............................................................................*\n",
      "*Br    1 :a         : a/D                                                    *\n",
      "*Entries :      100 : Total  Size=       1353 bytes  File Size  =        329 *\n",
      "*Baskets :        1 : Basket Size=      32000 bytes  Compression=   2.64     *\n",
      "*............................................................................*\n",
      "*Br    2 :b         : b/D                                                    *\n",
      "*Entries :      100 : Total  Size=       1353 bytes  File Size  =        413 *\n",
      "*Baskets :        1 : Basket Size=      32000 bytes  Compression=   2.10     *\n",
      "*............................................................................*\n"
     ]
    }
   ],
   "source": [
    "ming.Print()"
   ]
  },
  {
   "cell_type": "code",
   "execution_count": 6,
   "metadata": {},
   "outputs": [
    {
     "name": "stdout",
     "output_type": "stream",
     "text": [
      "======> EVENT:-1\n",
      " i               = 99\n",
      " a               = 9.9\n",
      " b               = 9801\n"
     ]
    }
   ],
   "source": [
    "ming.Show()"
   ]
  },
  {
   "cell_type": "code",
   "execution_count": 7,
   "metadata": {},
   "outputs": [
    {
     "data": {
      "text/plain": [
       "20"
      ]
     },
     "execution_count": 7,
     "metadata": {},
     "output_type": "execute_result"
    },
    {
     "name": "stdout",
     "output_type": "stream",
     "text": [
      "************************************************\n",
      "*    Row   *       i.i *       a.a *       b.b *\n",
      "************************************************\n",
      "*        0 *         0 *         0 *         0 *\n",
      "*        1 *         1 *       0.1 *         1 *\n",
      "*        2 *         2 *       0.2 *         4 *\n",
      "*        3 *         3 *       0.3 *         9 *\n",
      "*        4 *         4 *       0.4 *        16 *\n",
      "*        5 *         5 *       0.5 *        25 *\n",
      "*        6 *         6 *       0.6 *        36 *\n",
      "*        7 *         7 *       0.7 *        49 *\n",
      "*        8 *         8 *       0.8 *        64 *\n",
      "*        9 *         9 *       0.9 *        81 *\n",
      "*       10 *        10 *         1 *       100 *\n",
      "*       11 *        11 *       1.1 *       121 *\n",
      "*       12 *        12 *       1.2 *       144 *\n",
      "*       13 *        13 *       1.3 *       169 *\n",
      "*       14 *        14 *       1.4 *       196 *\n",
      "*       15 *        15 *       1.5 *       225 *\n",
      "*       16 *        16 *       1.6 *       256 *\n",
      "*       17 *        17 *       1.7 *       289 *\n",
      "*       18 *        18 *       1.8 *       324 *\n",
      "*       19 *        19 *       1.9 *       361 *\n",
      "************************************************\n"
     ]
    }
   ],
   "source": [
    "ming.Scan(\"*\", \"\", \"\", 20, 0) # Scan 函数在vscode的jupyter lab中使用有问题，在jupyter lab中是没有问题的（注意）"
   ]
  },
  {
   "cell_type": "code",
   "execution_count": 8,
   "metadata": {},
   "outputs": [
    {
     "data": {
      "image/png": "[encoded data removed]",
      "text/plain": [
       "<IPython.core.display.Image object>"
      ]
     },
     "metadata": {},
     "output_type": "display_data"
    }
   ],
   "source": [
    "%jsroot off\n",
    "c1 = TCanvas(\"c1\",\"test canvas\",400,300);\n",
    "ming.Draw(\"b:a\",\"\",\"colz\");\n",
    "c1.Draw()"
   ]
  },
  {
   "cell_type": "code",
   "execution_count": 9,
   "metadata": {},
   "outputs": [
    {
     "data": {
      "image/png": "[encoded data removed]",
      "text/plain": [
       "<IPython.core.display.Image object>"
      ]
     },
     "metadata": {},
     "output_type": "display_data"
    }
   ],
   "source": [
    "c2 = TCanvas(\"c2\",\"b:a\",400,300);\n",
    "ming.Draw(\"a:b\",\"\",\"colz\")\n",
    "c2.Draw()"
   ]
  },
  {
   "cell_type": "code",
   "execution_count": 10,
   "metadata": {},
   "outputs": [],
   "source": [
    "guan.Close()"
   ]
  }
 ],
 "metadata": {
  "kernelspec": {
   "display_name": "Python 3 (ipykernel)",
   "language": "python",
   "name": "python3"
  },
  "language_info": {
   "codemirror_mode": {
    "name": "ipython",
    "version": 3
   },
   "file_extension": ".py",
   "mimetype": "text/x-python",
   "name": "python",
   "nbconvert_exporter": "python",
   "pygments_lexer": "ipython3",
   "version": "3.10.12"
  }
 },
 "nbformat": 4,
 "nbformat_minor": 4
}
