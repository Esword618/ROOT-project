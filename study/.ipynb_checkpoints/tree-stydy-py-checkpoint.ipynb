{
 "cells": [
  {
   "cell_type": "code",
   "execution_count": 9,
   "metadata": {},
   "outputs": [],
   "source": [
    "from ctypes import c_double, c_int\n",
    "from ROOT import TFile, TTree,TCanvas"
   ]
  },
  {
   "cell_type": "code",
   "execution_count": 10,
   "metadata": {},
   "outputs": [],
   "source": [
    "guan = TFile(\"guan.root\", \"recreate\")\n",
    "\n",
    "ming = TTree(\"ming\", \"This is my first tree\")"
   ]
  },
  {
   "cell_type": "code",
   "execution_count": 11,
   "metadata": {},
   "outputs": [
    {
     "data": {
      "text/plain": [
       "510"
      ]
     },
     "execution_count": 11,
     "metadata": {},
     "output_type": "execute_result"
    }
   ],
   "source": [
    "i = c_int(1)\n",
    "a = c_double(2.2)\n",
    "b = c_double(0.0)\n",
    "\n",
    "ming.Branch(\"i\", i, \"i/I\")  # \"i\" 为分支的名称，i为地址（c_int本身就是地址）,\"i/I\"为i的类型\n",
    "ming.Branch(\"a\", a, \"a/D\")\n",
    "ming.Branch(\"b\", a, \"b/D\")\n",
    "\n",
    "for j in range(100):\n",
    "    i = j\n",
    "    a = i * 0.1\n",
    "    b = a * a * 9\n",
    "    ming.Fill()\n",
    "    \n",
    "ming.Write()"
   ]
  },
  {
   "cell_type": "code",
   "execution_count": 12,
   "metadata": {},
   "outputs": [
    {
     "name": "stdout",
     "output_type": "stream",
     "text": [
      "TFile**\t\tguan.root\t\n",
      " TFile*\t\tguan.root\t\n",
      "  OBJ: TTree\tming\tThis is my first tree : 0 at: 0x561f7294f3c0\n",
      "  KEY: TTree\tming;1\tThis is my first tree\n"
     ]
    }
   ],
   "source": [
    "guan.ls()"
   ]
  },
  {
   "cell_type": "code",
   "execution_count": 13,
   "metadata": {},
   "outputs": [
    {
     "name": "stdout",
     "output_type": "stream",
     "text": [
      "******************************************************************************\n",
      "*Tree    :ming      : This is my first tree                                  *\n",
      "*Entries :      100 : Total =            4039 bytes  File  Size =        806 *\n",
      "*        :          : Tree compression factor =   7.45                       *\n",
      "******************************************************************************\n",
      "*Br    0 :i         : i/I                                                    *\n",
      "*Entries :      100 : Total  Size=        945 bytes  File Size  =         94 *\n",
      "*Baskets :        1 : Basket Size=      32000 bytes  Compression=   4.98     *\n",
      "*............................................................................*\n",
      "*Br    1 :a         : a/D                                                    *\n",
      "*Entries :      100 : Total  Size=       1353 bytes  File Size  =        101 *\n",
      "*Baskets :        1 : Basket Size=      32000 bytes  Compression=   8.59     *\n",
      "*............................................................................*\n",
      "*Br    2 :b         : b/D                                                    *\n",
      "*Entries :      100 : Total  Size=       1353 bytes  File Size  =        101 *\n",
      "*Baskets :        1 : Basket Size=      32000 bytes  Compression=   8.59     *\n",
      "*............................................................................*\n"
     ]
    }
   ],
   "source": [
    "ming.Print()"
   ]
  },
  {
   "cell_type": "code",
   "execution_count": 14,
   "metadata": {},
   "outputs": [
    {
     "name": "stdout",
     "output_type": "stream",
     "text": [
      "======> EVENT:-1\n",
      " i               = 0\n",
      " a               = 0\n",
      " b               = 0\n"
     ]
    }
   ],
   "source": [
    "ming.Show()"
   ]
  },
  {
   "cell_type": "code",
   "execution_count": 15,
   "metadata": {},
   "outputs": [
    {
     "data": {
      "text/plain": [
       "100"
      ]
     },
     "execution_count": 15,
     "metadata": {},
     "output_type": "execute_result"
    },
    {
     "name": "stdout",
     "output_type": "stream",
     "text": [
      "************************************************\n",
      "*    Row   *       i.i *       a.a *       b.b *\n",
      "************************************************\n",
      "*        0 *         1 *       2.2 *       2.2 *\n",
      "*        1 *         1 *       2.2 *       2.2 *\n",
      "*        2 *         1 *       2.2 *       2.2 *\n",
      "*        3 *         1 *       2.2 *       2.2 *\n",
      "*        4 *         1 *       2.2 *       2.2 *\n",
      "*        5 *         1 *       2.2 *       2.2 *\n",
      "*        6 *         1 *       2.2 *       2.2 *\n",
      "*        7 *         1 *       2.2 *       2.2 *\n",
      "*        8 *         1 *       2.2 *       2.2 *\n",
      "*        9 *         1 *       2.2 *       2.2 *\n",
      "*       10 *         1 *       2.2 *       2.2 *\n",
      "*       11 *         1 *       2.2 *       2.2 *\n",
      "*       12 *         1 *       2.2 *       2.2 *\n",
      "*       13 *         1 *       2.2 *       2.2 *\n",
      "*       14 *         1 *       2.2 *       2.2 *\n",
      "*       15 *         1 *       2.2 *       2.2 *\n",
      "*       16 *         1 *       2.2 *       2.2 *\n",
      "*       17 *         1 *       2.2 *       2.2 *\n",
      "*       18 *         1 *       2.2 *       2.2 *\n",
      "*       19 *         1 *       2.2 *       2.2 *\n",
      "*       20 *         1 *       2.2 *       2.2 *\n",
      "*       21 *         1 *       2.2 *       2.2 *\n",
      "*       22 *         1 *       2.2 *       2.2 *\n",
      "*       23 *         1 *       2.2 *       2.2 *\n",
      "*       24 *         1 *       2.2 *       2.2 *\n",
      "*       25 *         1 *       2.2 *       2.2 *\n",
      "*       26 *         1 *       2.2 *       2.2 *\n",
      "*       27 *         1 *       2.2 *       2.2 *\n",
      "*       28 *         1 *       2.2 *       2.2 *\n",
      "*       29 *         1 *       2.2 *       2.2 *\n",
      "*       30 *         1 *       2.2 *       2.2 *\n",
      "*       31 *         1 *       2.2 *       2.2 *\n",
      "*       32 *         1 *       2.2 *       2.2 *\n",
      "*       33 *         1 *       2.2 *       2.2 *\n",
      "*       34 *         1 *       2.2 *       2.2 *\n",
      "*       35 *         1 *       2.2 *       2.2 *\n",
      "*       36 *         1 *       2.2 *       2.2 *\n",
      "*       37 *         1 *       2.2 *       2.2 *\n",
      "*       38 *         1 *       2.2 *       2.2 *\n",
      "*       39 *         1 *       2.2 *       2.2 *\n",
      "*       40 *         1 *       2.2 *       2.2 *\n",
      "*       41 *         1 *       2.2 *       2.2 *\n",
      "*       42 *         1 *       2.2 *       2.2 *\n",
      "*       43 *         1 *       2.2 *       2.2 *\n",
      "*       44 *         1 *       2.2 *       2.2 *\n",
      "*       45 *         1 *       2.2 *       2.2 *\n",
      "*       46 *         1 *       2.2 *       2.2 *\n",
      "*       47 *         1 *       2.2 *       2.2 *\n",
      "*       48 *         1 *       2.2 *       2.2 *\n",
      "*       49 *         1 *       2.2 *       2.2 *\n",
      "*       50 *         1 *       2.2 *       2.2 *\n",
      "*       51 *         1 *       2.2 *       2.2 *\n",
      "*       52 *         1 *       2.2 *       2.2 *\n",
      "*       53 *         1 *       2.2 *       2.2 *\n",
      "*       54 *         1 *       2.2 *       2.2 *\n",
      "*       55 *         1 *       2.2 *       2.2 *\n",
      "*       56 *         1 *       2.2 *       2.2 *\n",
      "*       57 *         1 *       2.2 *       2.2 *\n",
      "*       58 *         1 *       2.2 *       2.2 *\n",
      "*       59 *         1 *       2.2 *       2.2 *\n",
      "*       60 *         1 *       2.2 *       2.2 *\n",
      "*       61 *         1 *       2.2 *       2.2 *\n",
      "*       62 *         1 *       2.2 *       2.2 *\n",
      "*       63 *         1 *       2.2 *       2.2 *\n",
      "*       64 *         1 *       2.2 *       2.2 *\n",
      "*       65 *         1 *       2.2 *       2.2 *\n",
      "*       66 *         1 *       2.2 *       2.2 *\n",
      "*       67 *         1 *       2.2 *       2.2 *\n",
      "*       68 *         1 *       2.2 *       2.2 *\n",
      "*       69 *         1 *       2.2 *       2.2 *\n",
      "*       70 *         1 *       2.2 *       2.2 *\n",
      "*       71 *         1 *       2.2 *       2.2 *\n",
      "*       72 *         1 *       2.2 *       2.2 *\n",
      "*       73 *         1 *       2.2 *       2.2 *\n",
      "*       74 *         1 *       2.2 *       2.2 *\n",
      "*       75 *         1 *       2.2 *       2.2 *\n",
      "*       76 *         1 *       2.2 *       2.2 *\n",
      "*       77 *         1 *       2.2 *       2.2 *\n",
      "*       78 *         1 *       2.2 *       2.2 *\n",
      "*       79 *         1 *       2.2 *       2.2 *\n",
      "*       80 *         1 *       2.2 *       2.2 *\n",
      "*       81 *         1 *       2.2 *       2.2 *\n",
      "*       82 *         1 *       2.2 *       2.2 *\n",
      "*       83 *         1 *       2.2 *       2.2 *\n",
      "*       84 *         1 *       2.2 *       2.2 *\n",
      "*       85 *         1 *       2.2 *       2.2 *\n",
      "*       86 *         1 *       2.2 *       2.2 *\n",
      "*       87 *         1 *       2.2 *       2.2 *\n",
      "*       88 *         1 *       2.2 *       2.2 *\n",
      "*       89 *         1 *       2.2 *       2.2 *\n",
      "*       90 *         1 *       2.2 *       2.2 *\n",
      "*       91 *         1 *       2.2 *       2.2 *\n",
      "*       92 *         1 *       2.2 *       2.2 *\n",
      "*       93 *         1 *       2.2 *       2.2 *\n",
      "*       94 *         1 *       2.2 *       2.2 *\n",
      "*       95 *         1 *       2.2 *       2.2 *\n",
      "*       96 *         1 *       2.2 *       2.2 *\n",
      "*       97 *         1 *       2.2 *       2.2 *\n",
      "*       98 *         1 *       2.2 *       2.2 *\n",
      "*       99 *         1 *       2.2 *       2.2 *\n",
      "************************************************\n"
     ]
    },
    {
     "name": "stderr",
     "output_type": "stream",
     "text": [
      "Type <CR> to continue or q to quit ==> Type <CR> to continue or q to quit ==> Type <CR> to continue or q to quit ==> Type <CR> to continue or q to quit ==> "
     ]
    }
   ],
   "source": [
    "ming.Scan() # Scan 是一个死循环函数，这里所以一直卡着不退出"
   ]
  },
  {
   "cell_type": "code",
   "execution_count": 16,
   "metadata": {},
   "outputs": [
    {
     "name": "stderr",
     "output_type": "stream",
     "text": [
      "Warning in <TCanvas::Constructor>: Deleting canvas with same name: c1\n"
     ]
    },
    {
     "data": {
      "image/png": "[encoded data removed]",
      "text/plain": [
       "<IPython.core.display.Image object>"
      ]
     },
     "metadata": {},
     "output_type": "display_data"
    }
   ],
   "source": [
    "c1 = TCanvas(\"c1\",\"test canvas\",800,600);\n",
    "ming.Draw(\"b:a\",\"\",\"colz\");\n",
    "c1.Draw()"
   ]
  },
  {
   "cell_type": "code",
   "execution_count": 17,
   "metadata": {},
   "outputs": [],
   "source": [
    "guan.Close()"
   ]
  },
  {
   "cell_type": "code",
   "execution_count": null,
   "metadata": {},
   "outputs": [],
   "source": []
  }
 ],
 "metadata": {
  "kernelspec": {
   "display_name": "Python 3 (ipykernel)",
   "language": "python",
   "name": "python3"
  },
  "language_info": {
   "codemirror_mode": {
    "name": "ipython",
    "version": 3
   },
   "file_extension": ".py",
   "mimetype": "text/x-python",
   "name": "python",
   "nbconvert_exporter": "python",
   "pygments_lexer": "ipython3",
   "version": "3.10.12"
  }
 },
 "nbformat": 4,
 "nbformat_minor": 4
}
