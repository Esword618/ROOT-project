{
 "cells": [
  {
   "cell_type": "markdown",
   "metadata": {},
   "source": [
    "# my second tree"
   ]
  },
  {
   "cell_type": "code",
   "execution_count": 1,
   "metadata": {},
   "outputs": [
    {
     "name": "stdout",
     "output_type": "stream",
     "text": [
      "Welcome to JupyROOT 6.30/01\n"
     ]
    }
   ],
   "source": [
    "from ctypes import c_double, c_int, c_float,c_ushort\n",
    "from ROOT import TFile, TTree, TCanvas, TRandom"
   ]
  },
  {
   "cell_type": "code",
   "execution_count": 2,
   "metadata": {},
   "outputs": [],
   "source": [
    "f = TFile(\"f-file.root\",\"recreate\")\n",
    "\n",
    "t = TTree(\"t-tree\",\"esword second tree\")"
   ]
  },
  {
   "cell_type": "code",
   "execution_count": 3,
   "metadata": {},
   "outputs": [],
   "source": [
    "r = TRandom()\n",
    "px, py, pz = c_float(), c_float(), c_float()\n",
    "random = c_double()\n",
    "i = c_ushort()"
   ]
  },
  {
   "cell_type": "code",
   "execution_count": 4,
   "metadata": {},
   "outputs": [
    {
     "data": {
      "text/plain": [
       "<cppyy.gbl.TBranch object at 0x561e46be7750>"
      ]
     },
     "execution_count": 4,
     "metadata": {},
     "output_type": "execute_result"
    }
   ],
   "source": [
    "t.Branch(\"px\",px,\"px/F\")\n",
    "t.Branch(\"py\",py,\"py/F\")\n",
    "t.Branch(\"pz\",pz,\"pz/F\")\n",
    "t.Branch(\"random\",random,\"random/D\")\n",
    "t.Branch(\"i\",i,\"i/s\")"
   ]
  },
  {
   "cell_type": "code",
   "execution_count": 5,
   "metadata": {},
   "outputs": [
    {
     "data": {
      "text/plain": [
       "768"
      ]
     },
     "execution_count": 5,
     "metadata": {},
     "output_type": "execute_result"
    }
   ],
   "source": [
    "for ii in range(10000):\n",
    "    r.Rannor(px,py)\n",
    "    pz.value = px.value**2 + py.value**2\n",
    "    random.value = r.Rndm()\n",
    "    t.Fill()\n",
    "f.Write()"
   ]
  },
  {
   "cell_type": "code",
   "execution_count": 6,
   "metadata": {},
   "outputs": [
    {
     "name": "stdout",
     "output_type": "stream",
     "text": [
      "******************************************************************************\n",
      "*Tree    :t-tree    : esword second tree                                     *\n",
      "*Entries :    10000 : Total =          223565 bytes  File  Size =     169026 *\n",
      "*        :          : Tree compression factor =   1.31                       *\n",
      "******************************************************************************\n",
      "*Br    0 :px        : px/F                                                   *\n",
      "*Entries :    10000 : Total  Size=      40627 bytes  File Size  =      37172 *\n",
      "*Baskets :        2 : Basket Size=      32000 bytes  Compression=   1.08     *\n",
      "*............................................................................*\n",
      "*Br    1 :py        : py/F                                                   *\n",
      "*Entries :    10000 : Total  Size=      40627 bytes  File Size  =      37178 *\n",
      "*Baskets :        2 : Basket Size=      32000 bytes  Compression=   1.08     *\n",
      "*............................................................................*\n",
      "*Br    2 :pz        : pz/F                                                   *\n",
      "*Entries :    10000 : Total  Size=      40627 bytes  File Size  =      36515 *\n",
      "*Baskets :        2 : Basket Size=      32000 bytes  Compression=   1.10     *\n",
      "*............................................................................*\n",
      "*Br    3 :random    : random/D                                               *\n",
      "*Entries :    10000 : Total  Size=      80738 bytes  File Size  =      57203 *\n",
      "*Baskets :        3 : Basket Size=      32000 bytes  Compression=   1.40     *\n",
      "*............................................................................*\n",
      "*Br    4 :i         : i/s                                                    *\n",
      "*Entries :    10000 : Total  Size=      20543 bytes  File Size  =        190 *\n",
      "*Baskets :        1 : Basket Size=      32000 bytes  Compression= 105.63     *\n",
      "*............................................................................*\n"
     ]
    }
   ],
   "source": [
    "t.Print()"
   ]
  },
  {
   "cell_type": "code",
   "execution_count": 7,
   "metadata": {},
   "outputs": [
    {
     "name": "stdout",
     "output_type": "stream",
     "text": [
      "======> EVENT:1\n",
      " px              = 1.57022\n",
      " py              = 0.579752\n",
      " pz              = 2.80171\n",
      " random          = 0.169346\n",
      " i               = 0\n"
     ]
    }
   ],
   "source": [
    "t.Show(1) # Entries 为行数"
   ]
  },
  {
   "cell_type": "code",
   "execution_count": 8,
   "metadata": {},
   "outputs": [
    {
     "data": {
      "text/plain": [
       "20"
      ]
     },
     "execution_count": 8,
     "metadata": {},
     "output_type": "execute_result"
    },
    {
     "name": "stdout",
     "output_type": "stream",
     "text": [
      "************************************************************************\n",
      "*    Row   *     px.px *     py.py *     pz.pz * random.ra *       i.i *\n",
      "************************************************************************\n",
      "*        0 * 0.8966467 * -1.712815 * 3.7377111 * 0.7905995 *         0 *\n",
      "*        1 * 1.5702210 * 0.5797516 * 2.8017063 * 0.1693463 *         0 *\n",
      "*        2 * 0.6975117 * 0.1442547 * 0.5073320 * 0.8619950 *         0 *\n",
      "*        3 * 0.0616207 * -1.009907 * 1.0237097 * 0.8942667 *         0 *\n",
      "*        4 * -0.054552 * 1.3832200 * 1.9162737 * 0.7776606 *         0 *\n",
      "*        5 * -2.017178 * 1.4682819 * 6.2248592 * 0.3903101 *         0 *\n",
      "*        6 * 0.8903368 * 2.5101616 * 7.0936112 * 0.8544955 *         0 *\n",
      "*        7 * -1.098390 * -0.318103 * 1.3076509 *   0.33476 *         0 *\n",
      "*        8 * 0.3865155 * 0.0235152 * 0.1499472 * 0.1494743 *         0 *\n",
      "*        9 * 1.8970719 * 1.9546536 * 7.4195528 * 0.9352411 *         0 *\n",
      "*       10 * 0.6802427 * 0.1985776 * 0.5021632 * 0.5868942 *         0 *\n",
      "*       11 * 0.5670135 * 0.0129729 * 0.3216726 * 0.3481201 *         0 *\n",
      "*       12 * -1.043177 * 0.6455513 * 1.5049554 * 0.6848344 *         0 *\n",
      "*       13 * 0.1561114 * 1.7405016 * 3.0537166 * 0.4606435 *         0 *\n",
      "*       14 * -0.408388 * 0.9339914 * 1.0391209 * 0.1496268 *         0 *\n",
      "*       15 * -0.002963 * -0.304645 * 0.0928176 * 0.4394039 *         0 *\n",
      "*       16 * -0.058236 * 1.2137416 * 1.4765603 * 0.9567470 *         0 *\n",
      "*       17 * -0.777734 * 2.2816205 * 5.8106622 * 0.7270176 *         0 *\n",
      "*       18 * 0.1255596 * -0.128900 * 0.0323806 * 0.0892672 *         0 *\n",
      "*       19 * -0.834347 * -2.053497 * 4.9129881 * 0.2138195 *         0 *\n",
      "************************************************************************\n"
     ]
    }
   ],
   "source": [
    "t.Scan(\"*\", \"\", \"\", 20, 0)"
   ]
  },
  {
   "cell_type": "code",
   "execution_count": 9,
   "metadata": {},
   "outputs": [
    {
     "data": {
      "image/png": "[encoded data removed]",
      "text/plain": [
       "<IPython.core.display.Image object>"
      ]
     },
     "metadata": {},
     "output_type": "display_data"
    }
   ],
   "source": [
    "c3 = TCanvas(\"c3\",\"px:py\",400,300);\n",
    "t.Draw(\"px:py\",\"\",\"colz\")\n",
    "c3.Draw()"
   ]
  },
  {
   "cell_type": "code",
   "execution_count": 10,
   "metadata": {},
   "outputs": [
    {
     "data": {
      "image/png": "[encoded data removed]",
      "text/plain": [
       "<IPython.core.display.Image object>"
      ]
     },
     "metadata": {},
     "output_type": "display_data"
    }
   ],
   "source": [
    "c4 = TCanvas(\"c4\",\"px:pz\",400,300);\n",
    "t.Draw(\"px:pz\",\"\",\"colz\")\n",
    "c4.Draw()"
   ]
  },
  {
   "cell_type": "markdown",
   "metadata": {},
   "source": [
    "# Tcut 使用"
   ]
  },
  {
   "cell_type": "code",
   "execution_count": 11,
   "metadata": {},
   "outputs": [
    {
     "name": "stdout",
     "output_type": "stream",
     "text": [
      "======> EVENT:4\n",
      " px              = -0.0545523\n",
      " py              = 1.38322\n",
      " pz              = 1.91627\n",
      " random          = 0.777661\n",
      " i               = 0\n"
     ]
    }
   ],
   "source": [
    "t.Show(4)"
   ]
  },
  {
   "cell_type": "code",
   "execution_count": 12,
   "metadata": {},
   "outputs": [
    {
     "data": {
      "image/png": "[encoded data removed]",
      "text/plain": [
       "<IPython.core.display.Image object>"
      ]
     },
     "metadata": {},
     "output_type": "display_data"
    }
   ],
   "source": [
    "c5 = TCanvas(\"c5\",\"tcut\",400,300)\n",
    "# i==0就是一个选择条件（注意）\n",
    "t.Draw(\"py\",\"i==0\",\"L\")\n",
    "c5.Draw()"
   ]
  },
  {
   "cell_type": "code",
   "execution_count": 13,
   "metadata": {},
   "outputs": [],
   "source": [
    "f.Close()"
   ]
  },
  {
   "cell_type": "code",
   "execution_count": null,
   "metadata": {},
   "outputs": [],
   "source": []
  }
 ],
 "metadata": {
  "kernelspec": {
   "display_name": "Python 3",
   "language": "python",
   "name": "python3"
  },
  "language_info": {
   "codemirror_mode": {
    "name": "ipython",
    "version": 3
   },
   "file_extension": ".py",
   "mimetype": "text/x-python",
   "name": "python",
   "nbconvert_exporter": "python",
   "pygments_lexer": "ipython3",
   "version": "3.10.12"
  }
 },
 "nbformat": 4,
 "nbformat_minor": 2
}
