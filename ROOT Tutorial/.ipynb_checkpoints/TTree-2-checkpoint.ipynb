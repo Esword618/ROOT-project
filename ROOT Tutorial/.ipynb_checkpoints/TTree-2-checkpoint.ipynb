{
 "cells": [
  {
   "cell_type": "code",
   "execution_count": 1,
   "id": "61655f11-5045-45ce-b131-bbb531f60a42",
   "metadata": {},
   "outputs": [
    {
     "name": "stdout",
     "output_type": "stream",
     "text": [
      "Welcome to JupyROOT 6.29/99\n"
     ]
    }
   ],
   "source": [
    "from ctypes import c_double, c_int\n",
    "\n",
    "from ROOT import TFile, TTree, TCanvas"
   ]
  },
  {
   "cell_type": "code",
   "execution_count": 2,
   "id": "f09696f0-fadf-494c-960e-5031caa730f9",
   "metadata": {},
   "outputs": [],
   "source": [
    "guan = TFile(\"guan.root\", \"recreate\")"
   ]
  },
  {
   "cell_type": "code",
   "execution_count": 3,
   "id": "64b6f73a-7efc-465a-9686-bea5e44924e5",
   "metadata": {},
   "outputs": [],
   "source": [
    "ming = TTree(\"ming\", \"This is my first tree\")"
   ]
  },
  {
   "cell_type": "code",
   "execution_count": 4,
   "id": "22b57182-da41-43fe-a78d-a8710ce632f6",
   "metadata": {},
   "outputs": [],
   "source": [
    "i = c_int(1)\n",
    "a = c_double(2.2)\n",
    "b = c_double(0.0)"
   ]
  },
  {
   "cell_type": "code",
   "execution_count": 5,
   "id": "e9b051be-6130-4c07-bde2-157d3084a275",
   "metadata": {},
   "outputs": [
    {
     "data": {
      "text/plain": [
       "460"
      ]
     },
     "execution_count": 5,
     "metadata": {},
     "output_type": "execute_result"
    }
   ],
   "source": [
    "ming.Branch(\"i\", i, \"i/I\")  # \"i\" 为分支的名称，i为地址（c_int本身就是地址）,\"i/I\"为i的类型\n",
    "ming.Branch(\"a\", a, \"a/D\")\n",
    "for j in range(100):\n",
    "    i = j\n",
    "    a = i * 0.1\n",
    "    b = a * a * 9\n",
    "    ming.Fill()\n",
    "ming.Write()"
   ]
  },
  {
   "cell_type": "code",
   "execution_count": 6,
   "id": "26865e95-8292-4645-af9f-0a167272b4ef",
   "metadata": {},
   "outputs": [
    {
     "name": "stdout",
     "output_type": "stream",
     "text": [
      "TFile**\t\tguan.root\t\n",
      " TFile*\t\tguan.root\t\n",
      "  OBJ: TTree\tming\tThis is my first tree : 0 at: 0x55a822c86bc0\n",
      "  KEY: TTree\tming;1\tThis is my first tree\n"
     ]
    }
   ],
   "source": [
    "guan.ls()"
   ]
  },
  {
   "cell_type": "code",
   "execution_count": 7,
   "id": "691c4689-5538-4f15-a7c7-8b39211c921a",
   "metadata": {},
   "outputs": [
    {
     "data": {
      "text/plain": [
       "100"
      ]
     },
     "execution_count": 7,
     "metadata": {},
     "output_type": "execute_result"
    },
    {
     "name": "stdout",
     "output_type": "stream",
     "text": [
      "************************************\n",
      "*    Row   *       i.i *       a.a *\n",
      "************************************\n",
      "*        0 *         1 *       2.2 *\n",
      "*        1 *         1 *       2.2 *\n",
      "*        2 *         1 *       2.2 *\n",
      "*        3 *         1 *       2.2 *\n",
      "*        4 *         1 *       2.2 *\n",
      "*        5 *         1 *       2.2 *\n",
      "*        6 *         1 *       2.2 *\n",
      "*        7 *         1 *       2.2 *\n",
      "*        8 *         1 *       2.2 *\n",
      "*        9 *         1 *       2.2 *\n",
      "*       10 *         1 *       2.2 *\n",
      "*       11 *         1 *       2.2 *\n",
      "*       12 *         1 *       2.2 *\n",
      "*       13 *         1 *       2.2 *\n",
      "*       14 *         1 *       2.2 *\n",
      "*       15 *         1 *       2.2 *\n",
      "*       16 *         1 *       2.2 *\n",
      "*       17 *         1 *       2.2 *\n",
      "*       18 *         1 *       2.2 *\n",
      "*       19 *         1 *       2.2 *\n",
      "*       20 *         1 *       2.2 *\n",
      "*       21 *         1 *       2.2 *\n",
      "*       22 *         1 *       2.2 *\n",
      "*       23 *         1 *       2.2 *\n",
      "*       24 *         1 *       2.2 *\n",
      "*       25 *         1 *       2.2 *\n",
      "*       26 *         1 *       2.2 *\n",
      "*       27 *         1 *       2.2 *\n",
      "*       28 *         1 *       2.2 *\n",
      "*       29 *         1 *       2.2 *\n",
      "*       30 *         1 *       2.2 *\n",
      "*       31 *         1 *       2.2 *\n",
      "*       32 *         1 *       2.2 *\n",
      "*       33 *         1 *       2.2 *\n",
      "*       34 *         1 *       2.2 *\n",
      "*       35 *         1 *       2.2 *\n",
      "*       36 *         1 *       2.2 *\n",
      "*       37 *         1 *       2.2 *\n",
      "*       38 *         1 *       2.2 *\n",
      "*       39 *         1 *       2.2 *\n",
      "*       40 *         1 *       2.2 *\n",
      "*       41 *         1 *       2.2 *\n",
      "*       42 *         1 *       2.2 *\n",
      "*       43 *         1 *       2.2 *\n",
      "*       44 *         1 *       2.2 *\n",
      "*       45 *         1 *       2.2 *\n",
      "*       46 *         1 *       2.2 *\n",
      "*       47 *         1 *       2.2 *\n",
      "*       48 *         1 *       2.2 *\n",
      "*       49 *         1 *       2.2 *\n",
      "*       50 *         1 *       2.2 *\n",
      "*       51 *         1 *       2.2 *\n",
      "*       52 *         1 *       2.2 *\n",
      "*       53 *         1 *       2.2 *\n",
      "*       54 *         1 *       2.2 *\n",
      "*       55 *         1 *       2.2 *\n",
      "*       56 *         1 *       2.2 *\n",
      "*       57 *         1 *       2.2 *\n",
      "*       58 *         1 *       2.2 *\n",
      "*       59 *         1 *       2.2 *\n",
      "*       60 *         1 *       2.2 *\n",
      "*       61 *         1 *       2.2 *\n",
      "*       62 *         1 *       2.2 *\n",
      "*       63 *         1 *       2.2 *\n",
      "*       64 *         1 *       2.2 *\n",
      "*       65 *         1 *       2.2 *\n",
      "*       66 *         1 *       2.2 *\n",
      "*       67 *         1 *       2.2 *\n",
      "*       68 *         1 *       2.2 *\n",
      "*       69 *         1 *       2.2 *\n",
      "*       70 *         1 *       2.2 *\n",
      "*       71 *         1 *       2.2 *\n",
      "*       72 *         1 *       2.2 *\n",
      "*       73 *         1 *       2.2 *\n",
      "*       74 *         1 *       2.2 *\n",
      "*       75 *         1 *       2.2 *\n",
      "*       76 *         1 *       2.2 *\n",
      "*       77 *         1 *       2.2 *\n",
      "*       78 *         1 *       2.2 *\n",
      "*       79 *         1 *       2.2 *\n",
      "*       80 *         1 *       2.2 *\n",
      "*       81 *         1 *       2.2 *\n",
      "*       82 *         1 *       2.2 *\n",
      "*       83 *         1 *       2.2 *\n",
      "*       84 *         1 *       2.2 *\n",
      "*       85 *         1 *       2.2 *\n",
      "*       86 *         1 *       2.2 *\n",
      "*       87 *         1 *       2.2 *\n",
      "*       88 *         1 *       2.2 *\n",
      "*       89 *         1 *       2.2 *\n",
      "*       90 *         1 *       2.2 *\n",
      "*       91 *         1 *       2.2 *\n",
      "*       92 *         1 *       2.2 *\n",
      "*       93 *         1 *       2.2 *\n",
      "*       94 *         1 *       2.2 *\n",
      "*       95 *         1 *       2.2 *\n",
      "*       96 *         1 *       2.2 *\n",
      "*       97 *         1 *       2.2 *\n",
      "*       98 *         1 *       2.2 *\n",
      "*       99 *         1 *       2.2 *\n",
      "************************************\n"
     ]
    },
    {
     "name": "stderr",
     "output_type": "stream",
     "text": [
      "Type <CR> to continue or q to quit ==> Type <CR> to continue or q to quit ==> Type <CR> to continue or q to quit ==> Type <CR> to continue or q to quit ==> "
     ]
    }
   ],
   "source": [
    "ming.Scan()"
   ]
  },
  {
   "cell_type": "code",
   "execution_count": 8,
   "id": "339eeedb-e666-4440-ab3d-2cfab89eaa10",
   "metadata": {},
   "outputs": [
    {
     "name": "stdout",
     "output_type": "stream",
     "text": [
      "******************************************************************************\n",
      "*Tree    :ming      : This is my first tree                                  *\n",
      "*Entries :      100 : Total =            2681 bytes  File  Size =        655 *\n",
      "*        :          : Tree compression factor =   6.85                       *\n",
      "******************************************************************************\n",
      "*Br    0 :i         : i/I                                                    *\n",
      "*Entries :      100 : Total  Size=        945 bytes  File Size  =         94 *\n",
      "*Baskets :        1 : Basket Size=      32000 bytes  Compression=   4.98     *\n",
      "*............................................................................*\n",
      "*Br    1 :a         : a/D                                                    *\n",
      "*Entries :      100 : Total  Size=       1353 bytes  File Size  =        101 *\n",
      "*Baskets :        1 : Basket Size=      32000 bytes  Compression=   8.59     *\n",
      "*............................................................................*\n"
     ]
    }
   ],
   "source": [
    "ming.Print()"
   ]
  },
  {
   "cell_type": "code",
   "execution_count": 36,
   "id": "a59ad146-99e6-4bfe-b3b7-828898341a1a",
   "metadata": {},
   "outputs": [
    {
     "name": "stdout",
     "output_type": "stream",
     "text": [
      "======> EVENT:99\n",
      " i               = 0\n",
      " a               = 0\n"
     ]
    }
   ],
   "source": [
    "ming.Show()"
   ]
  },
  {
   "cell_type": "code",
   "execution_count": null,
   "id": "ea3ff2bf-8804-4809-811f-d6a67b820b56",
   "metadata": {},
   "outputs": [],
   "source": []
  }
 ],
 "metadata": {
  "kernelspec": {
   "display_name": "Python 3 (ipykernel)",
   "language": "python",
   "name": "python3"
  },
  "language_info": {
   "codemirror_mode": {
    "name": "ipython",
    "version": 3
   },
   "file_extension": ".py",
   "mimetype": "text/x-python",
   "name": "python",
   "nbconvert_exporter": "python",
   "pygments_lexer": "ipython3",
   "version": "3.10.12"
  }
 },
 "nbformat": 4,
 "nbformat_minor": 5
}
