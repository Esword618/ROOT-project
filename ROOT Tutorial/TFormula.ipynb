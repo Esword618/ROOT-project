{
 "cells": [
  {
   "cell_type": "code",
   "execution_count": 1,
   "id": "5e9c3dec-be95-4a82-80e6-8391c0b87e6f",
   "metadata": {},
   "outputs": [
    {
     "name": "stdout",
     "output_type": "stream",
     "text": [
      "Welcome to JupyROOT 6.28/04\n"
     ]
    }
   ],
   "source": [
    "from ROOT import Double_t, TFormula\n",
    "from array import array"
   ]
  },
  {
   "cell_type": "markdown",
   "id": "1ae5905f-1986-4e4b-92b6-8bd2046caeab",
   "metadata": {},
   "source": [
    "## 单变量+单参数"
   ]
  },
  {
   "cell_type": "code",
   "execution_count": 2,
   "id": "3b5dd12e-4dbd-4c4f-b13d-d2d5a988eb00",
   "metadata": {},
   "outputs": [
    {
     "data": {
      "text/plain": [
       "4.0"
      ]
     },
     "execution_count": 2,
     "metadata": {},
     "output_type": "execute_result"
    }
   ],
   "source": [
    "myFormula1 = TFormula(\"myFormula1\", \"[0]*x\")\n",
    "a = 2.0\n",
    "x = 2.0\n",
    "myFormula1.SetParameter(0, a)\n",
    "\n",
    "result = myFormula1.Eval(2)\n",
    "result"
   ]
  },
  {
   "cell_type": "code",
   "execution_count": 3,
   "id": "43e9a210-e81f-4e6c-97c8-2f72b2f6c44b",
   "metadata": {},
   "outputs": [
    {
     "data": {
      "text/plain": [
       "16.0"
      ]
     },
     "execution_count": 3,
     "metadata": {},
     "output_type": "execute_result"
    }
   ],
   "source": [
    "a = 4.0\n",
    "x = array('d', [a])\n",
    "params = array('d', [a])\n",
    "\n",
    "# EvalPar中的参数要使用python的array库\n",
    "result = myFormula1.EvalPar(x, params)\n",
    "result"
   ]
  },
  {
   "cell_type": "markdown",
   "id": "23c616bd-1553-4607-a809-814f9e09cfe9",
   "metadata": {},
   "source": [
    "## 单变量+多参数"
   ]
  },
  {
   "cell_type": "code",
   "execution_count": 4,
   "id": "bffe7da0-f82c-4158-bd59-6e3bd03eea31",
   "metadata": {},
   "outputs": [
    {
     "data": {
      "text/plain": [
       "8.0"
      ]
     },
     "execution_count": 4,
     "metadata": {},
     "output_type": "execute_result"
    }
   ],
   "source": [
    "myFormula2 = TFormula(\"myFormula2\", \"[0]*x + [1]\")\n",
    "a = 2.0\n",
    "b = 4.0\n",
    "x = 2.0\n",
    "myFormula2.SetParameter(0, a)\n",
    "myFormula2.SetParameter(1, b)\n",
    "\n",
    "# 上面两种写法等价于下面写法\n",
    "# SetParameters 用于参数大于1以上\n",
    "# myFormula.SetParameters(a,b)\n",
    "\n",
    "result = myFormula2.Eval(x)\n",
    "result"
   ]
  },
  {
   "cell_type": "code",
   "execution_count": 5,
   "id": "79c039db-c322-4d6e-8b38-369543a97170",
   "metadata": {},
   "outputs": [
    {
     "data": {
      "text/plain": [
       "2.0"
      ]
     },
     "execution_count": 5,
     "metadata": {},
     "output_type": "execute_result"
    }
   ],
   "source": [
    "a, b = 4.0, 2.0\n",
    "x = array('d', [0])\n",
    "params = array('d', [a,b])\n",
    "result = myFormula2.EvalPar(x, params)\n",
    "result"
   ]
  },
  {
   "cell_type": "markdown",
   "id": "2c625d1b-8917-44cd-b603-172f7e1ee431",
   "metadata": {},
   "source": [
    "## 多变量+多参数"
   ]
  },
  {
   "cell_type": "code",
   "execution_count": 6,
   "id": "baa542a4-0e96-4344-8c01-e19b30c60045",
   "metadata": {},
   "outputs": [
    {
     "data": {
      "text/plain": [
       "20.0"
      ]
     },
     "execution_count": 6,
     "metadata": {},
     "output_type": "execute_result"
    }
   ],
   "source": [
    "myFormula3 = TFormula(\"myFormula3\", \"[0]*x + [1]*y\")\n",
    "a = 2.0\n",
    "b = 4.0\n",
    "\n",
    "myFormula3.SetParameter(0, a)\n",
    "myFormula3.SetParameter(1, b)\n",
    "\n",
    "# 上面两种写法等价于下面写法\n",
    "# myFormula.SetParameters(a,b)\n",
    "\n",
    "result = myFormula3.Eval(2, 4)\n",
    "result"
   ]
  },
  {
   "cell_type": "code",
   "execution_count": 7,
   "id": "4aad2565-412e-4f84-b06a-11e37e17f1bf",
   "metadata": {},
   "outputs": [
    {
     "data": {
      "text/plain": [
       "20.0"
      ]
     },
     "execution_count": 7,
     "metadata": {},
     "output_type": "execute_result"
    }
   ],
   "source": [
    "a, b = 4.0, 2.0\n",
    "\n",
    "params = array('d', [a,b])\n",
    "xy = array('d',[4,2])\n",
    "\n",
    "result = myFormula3.EvalPar(xy, params)\n",
    "result"
   ]
  },
  {
   "cell_type": "markdown",
   "id": "2ee5322b-57c8-4447-a4ef-1b274f43602a",
   "metadata": {},
   "source": [
    "## 使用预设函数 gaus"
   ]
  },
  {
   "cell_type": "code",
   "execution_count": 8,
   "id": "de9fd3e0-9e33-439f-a312-335b26a6fb8e",
   "metadata": {},
   "outputs": [
    {
     "data": {
      "text/plain": [
       "1.522997974471263e-06"
      ]
     },
     "execution_count": 8,
     "metadata": {},
     "output_type": "execute_result"
    }
   ],
   "source": [
    "myFormula4 = TFormula(\"formula4\",\"x*gaus(0)\")\n",
    "myFormula4.SetParameters(10, 4, 1)\n",
    "myFormula4.Eval(10)"
   ]
  },
  {
   "cell_type": "code",
   "execution_count": null,
   "id": "b49ac5ac-70c4-4775-92b8-59eaa64ff54a",
   "metadata": {},
   "outputs": [],
   "source": []
  }
 ],
 "metadata": {
  "kernelspec": {
   "display_name": "Python 3 (ipykernel)",
   "language": "python",
   "name": "python3"
  },
  "language_info": {
   "codemirror_mode": {
    "name": "ipython",
    "version": 3
   },
   "file_extension": ".py",
   "mimetype": "text/x-python",
   "name": "python",
   "nbconvert_exporter": "python",
   "pygments_lexer": "ipython3",
   "version": "3.10.12"
  }
 },
 "nbformat": 4,
 "nbformat_minor": 5
}
