{
 "cells": [
  {
   "cell_type": "code",
   "execution_count": 2,
   "id": "initial_id",
   "metadata": {
    "is_executing": true
   },
   "outputs": [],
   "source": [
    "from ctypes import c_double, c_int\n",
    "\n",
    "from ROOT import TFile, TTree\n",
    "import ROOT"
   ]
  },
  {
   "cell_type": "code",
   "execution_count": 3,
   "id": "64d1e6d1a2d47d3f",
   "metadata": {
    "collapsed": false,
    "is_executing": true,
    "jupyter": {
     "outputs_hidden": false
    }
   },
   "outputs": [],
   "source": [
    "guan = TFile(\"guan.root\", \"recreate\")\n",
    "\n",
    "ming = TTree(\"ming\", \"This is my first tree\")"
   ]
  },
  {
   "cell_type": "code",
   "execution_count": 4,
   "id": "a82dc3f16022b155",
   "metadata": {
    "collapsed": false,
    "jupyter": {
     "outputs_hidden": false
    }
   },
   "outputs": [
    {
     "data": {
      "text/plain": [
       "460"
      ]
     },
     "execution_count": 4,
     "metadata": {},
     "output_type": "execute_result"
    }
   ],
   "source": [
    "i = c_int(1)\n",
    "a = c_double(2.2)\n",
    "b = c_double(0.0)\n",
    "\n",
    "ming.Branch(\"i\", i, \"i/I\")  # \"i\" 为分支的名称，i为地址（c_int本身就是地址）,\"i/I\"为i的类型\n",
    "ming.Branch(\"a\", a, \"a/D\")\n",
    "for j in range(100):\n",
    "    i = j\n",
    "    a = i * 0.1\n",
    "    b = a * a * 9\n",
    "    ming.Fill()\n",
    "ming.Write()"
   ]
  },
  {
   "cell_type": "code",
   "execution_count": 5,
   "id": "872417b3-20f9-4f71-b5a3-632cd4beccd0",
   "metadata": {},
   "outputs": [
    {
     "name": "stdout",
     "output_type": "stream",
     "text": [
      "TFile**\t\tguan.root\t\n",
      " TFile*\t\tguan.root\t\n",
      "  OBJ: TTree\tming\tThis is my first tree : 0 at: 0x557da8a303e0\n",
      "  KEY: TTree\tming;1\tThis is my first tree\n"
     ]
    }
   ],
   "source": [
    "guan.ls()"
   ]
  },
  {
   "cell_type": "code",
   "execution_count": null,
   "id": "67ff2067-183c-43f3-9ac4-431a860b363c",
   "metadata": {},
   "outputs": [],
   "source": []
  }
 ],
 "metadata": {
  "kernelspec": {
   "display_name": "Python 3 (ipykernel)",
   "language": "python",
   "name": "python3"
  },
  "language_info": {
   "codemirror_mode": {
    "name": "ipython",
    "version": 3
   },
   "file_extension": ".py",
   "mimetype": "text/x-python",
   "name": "python",
   "nbconvert_exporter": "python",
   "pygments_lexer": "ipython3",
   "version": "3.10.12"
  }
 },
 "nbformat": 4,
 "nbformat_minor": 5
}
