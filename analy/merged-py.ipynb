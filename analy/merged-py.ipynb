{
 "cells": [
  {
   "cell_type": "code",
   "execution_count": 2,
   "metadata": {},
   "outputs": [
    {
     "data": {
      "text/plain": [
       "'ak'"
      ]
     },
     "execution_count": 2,
     "metadata": {},
     "output_type": "execute_result"
    }
   ],
   "source": [
    "import uproot\n",
    "uproot.default_library"
   ]
  },
  {
   "cell_type": "code",
   "execution_count": 3,
   "metadata": {},
   "outputs": [],
   "source": [
    "rootFilePath = \"../rootdata/merged.root\"\n",
    "file = uproot.open(rootFilePath)"
   ]
  },
  {
   "cell_type": "code",
   "execution_count": 4,
   "metadata": {},
   "outputs": [
    {
     "data": {
      "text/plain": [
       "{'muTL;1': 'TH1F', 'muKE;1': 'TH1F', 'mudepE;1': 'TH1F', 'Merged;1': 'TTree'}"
      ]
     },
     "execution_count": 4,
     "metadata": {},
     "output_type": "execute_result"
    }
   ],
   "source": [
    "file.classnames()"
   ]
  },
  {
   "cell_type": "code",
   "execution_count": 5,
   "metadata": {},
   "outputs": [
    {
     "data": {
      "text/plain": [
       "[<TH1F (version 3) at 0x7f77dc0ef310>,\n",
       " <TH1F (version 3) at 0x7f77bc186890>,\n",
       " <TH1F (version 3) at 0x7f77bc1c7970>,\n",
       " <TTree 'Merged' (10 branches) at 0x7f77bc1c7b20>]"
      ]
     },
     "execution_count": 5,
     "metadata": {},
     "output_type": "execute_result"
    }
   ],
   "source": [
    "file.values()"
   ]
  },
  {
   "cell_type": "code",
   "execution_count": 7,
   "metadata": {},
   "outputs": [
    {
     "name": "stdout",
     "output_type": "stream",
     "text": [
      "name                 | typename                 | interpretation                \n",
      "---------------------+--------------------------+-------------------------------\n",
      "Nsignals             | int32_t                  | AsDtype('>i4')\n",
      "pdg                  | int32_t[]                | AsJagged(AsDtype('>i4'))\n",
      "x                    | double[]                 | AsJagged(AsDtype('>f8'))\n",
      "y                    | double[]                 | AsJagged(AsDtype('>f8'))\n",
      "z                    | double[]                 | AsJagged(AsDtype('>f8'))\n",
      "t                    | double[]                 | AsJagged(AsDtype('>f8'))\n",
      "Edep                 | double[]                 | AsJagged(AsDtype('>f8'))\n",
      "QE                   | double[]                 | AsJagged(AsDtype('>f8'))\n",
      "tcap                 | double[]                 | AsJagged(AsDtype('>f8'))\n",
      "KE                   | double[]                 | AsJagged(AsDtype('>f8'))\n"
     ]
    }
   ],
   "source": [
    "Merged = file[\"Merged\"]\n",
    "Merged.show()"
   ]
  },
  {
   "cell_type": "code",
   "execution_count": 17,
   "metadata": {},
   "outputs": [
    {
     "data": {
      "text/plain": [
       "Hist(Regular(40000, 0, 40, name='xaxis'), storage=Double()) # Sum: 20.0"
      ]
     },
     "execution_count": 17,
     "metadata": {},
     "output_type": "execute_result"
    }
   ],
   "source": [
    "muTL = file[\"muTL\"]\n",
    "muTL.to_hist()"
   ]
  },
  {
   "cell_type": "code",
   "execution_count": 18,
   "metadata": {},
   "outputs": [
    {
     "data": {
      "text/plain": [
       "[StairsArtists(stairs=<matplotlib.patches.StepPatch object at 0x7f77554ab040>, errorbar=<ErrorbarContainer object of 3 artists>, legend_artist=<ErrorbarContainer object of 3 artists>)]"
      ]
     },
     "execution_count": 18,
     "metadata": {},
     "output_type": "execute_result"
    },
    {
     "data": {
      "image/png": "[encoded data removed]",
      "text/plain": [
       "<Figure size 640x480 with 1 Axes>"
      ]
     },
     "metadata": {},
     "output_type": "display_data"
    }
   ],
   "source": [
    "file[\"muTL\"].to_hist().plot()"
   ]
  },
  {
   "cell_type": "code",
   "execution_count": null,
   "metadata": {},
   "outputs": [],
   "source": []
  }
 ],
 "metadata": {
  "kernelspec": {
   "display_name": "Python 3",
   "language": "python",
   "name": "python3"
  },
  "language_info": {
   "codemirror_mode": {
    "name": "ipython",
    "version": 3
   },
   "file_extension": ".py",
   "mimetype": "text/x-python",
   "name": "python",
   "nbconvert_exporter": "python",
   "pygments_lexer": "ipython3",
   "version": "3.12.0"
  }
 },
 "nbformat": 4,
 "nbformat_minor": 2
}
